{
  "nbformat": 4,
  "nbformat_minor": 0,
  "metadata": {
    "colab": {
      "name": "Deneme1.ipynb",
      "provenance": []
    },
    "kernelspec": {
      "name": "python3",
      "display_name": "Python 3"
    },
    "language_info": {
      "name": "python"
    }
  },
  "cells": [
    {
      "cell_type": "markdown",
      "metadata": {
        "id": "tLy0lfhMqOzj"
      },
      "source": [
        "Öncelikle verimizi okumamız gerekiyor.\n",
        "\n"
      ]
    },
    {
      "cell_type": "markdown",
      "metadata": {
        "id": "U2UdDIsNaoXq"
      },
      "source": [
        "Veriyi colaba direkt olarak attim suanlik calismak icin"
      ]
    },
    {
      "cell_type": "code",
      "metadata": {
        "colab": {
          "base_uri": "https://localhost:8080/",
          "height": 142
        },
        "id": "BxhMofYwpVhe",
        "outputId": "bb4533d0-953f-4521-8a55-c9c5931e6ead"
      },
      "source": [
        "import pandas as pd\n",
        "data1 = pd.read_csv ('/content/convertcsv.csv')\n",
        "data1"
      ],
      "execution_count": null,
      "outputs": [
        {
          "output_type": "execute_result",
          "data": {
            "text/html": [
              "<div>\n",
              "<style scoped>\n",
              "    .dataframe tbody tr th:only-of-type {\n",
              "        vertical-align: middle;\n",
              "    }\n",
              "\n",
              "    .dataframe tbody tr th {\n",
              "        vertical-align: top;\n",
              "    }\n",
              "\n",
              "    .dataframe thead th {\n",
              "        text-align: right;\n",
              "    }\n",
              "</style>\n",
              "<table border=\"1\" class=\"dataframe\">\n",
              "  <thead>\n",
              "    <tr style=\"text-align: right;\">\n",
              "      <th></th>\n",
              "      <th>ingilizcesi</th>\n",
              "      <th>türkçesi</th>\n",
              "      <th>ingilizce cüme</th>\n",
              "      <th>türkçesi.1</th>\n",
              "      <th>ekbilgiler</th>\n",
              "    </tr>\n",
              "  </thead>\n",
              "  <tbody>\n",
              "    <tr>\n",
              "      <th>0</th>\n",
              "      <td>phase</td>\n",
              "      <td>faz/aşama/evre</td>\n",
              "      <td>We're entering a new phase in international re...</td>\n",
              "      <td>Uluslararası ilişkilerde yeni bir aşamaya giri...</td>\n",
              "      <td>NaN</td>\n",
              "    </tr>\n",
              "    <tr>\n",
              "      <th>1</th>\n",
              "      <td>raw</td>\n",
              "      <td>işlenmemiş</td>\n",
              "      <td>We were given a large quantity of raw data.</td>\n",
              "      <td>Bize çok miktarda ham veri verildi.</td>\n",
              "      <td>NaN</td>\n",
              "    </tr>\n",
              "    <tr>\n",
              "      <th>2</th>\n",
              "      <td>enrich</td>\n",
              "      <td>zenginleştirmek/değer-katmak</td>\n",
              "      <td>My life was greatly enriched by knowing her.</td>\n",
              "      <td>Onu tanımakla hayatım büyük ölçüde zenginleşti.</td>\n",
              "      <td>NaN</td>\n",
              "    </tr>\n",
              "  </tbody>\n",
              "</table>\n",
              "</div>"
            ],
            "text/plain": [
              "  ingilizcesi  ... ekbilgiler\n",
              "0       phase  ...        NaN\n",
              "1        raw   ...        NaN\n",
              "2      enrich  ...        NaN\n",
              "\n",
              "[3 rows x 5 columns]"
            ]
          },
          "metadata": {},
          "execution_count": 5
        }
      ]
    },
    {
      "cell_type": "markdown",
      "metadata": {
        "id": "ilfplNBivrt2"
      },
      "source": [
        "veriyi nasıl okuyacagımızı öğrenmek için pandas komutlarına bir bakalım"
      ]
    },
    {
      "cell_type": "code",
      "metadata": {
        "colab": {
          "base_uri": "https://localhost:8080/"
        },
        "id": "6If7OK1AwDKG",
        "outputId": "bbf3a8a3-48a8-41b8-c26b-1734ad64148c"
      },
      "source": [
        "#bu şekilde sütunları okuyabildik\n",
        "data1[\"ingilizcesi\"]"
      ],
      "execution_count": null,
      "outputs": [
        {
          "output_type": "execute_result",
          "data": {
            "text/plain": [
              "0     phase\n",
              "1      raw \n",
              "2    enrich\n",
              "3         I\n",
              "Name: ingilizcesi, dtype: object"
            ]
          },
          "metadata": {},
          "execution_count": 12
        }
      ]
    },
    {
      "cell_type": "code",
      "metadata": {
        "colab": {
          "base_uri": "https://localhost:8080/",
          "height": 35
        },
        "id": "eMz7-pZ5wZAh",
        "outputId": "00a5f3b2-68cc-4015-8234-c7e6e687a3a9"
      },
      "source": [
        "#böyle daha spesifik ihtiyaçlara erişebiliyoruz\n",
        "data1[\"ingilizcesi\"][0]"
      ],
      "execution_count": null,
      "outputs": [
        {
          "output_type": "execute_result",
          "data": {
            "application/vnd.google.colaboratory.intrinsic+json": {
              "type": "string"
            },
            "text/plain": [
              "'phase'"
            ]
          },
          "metadata": {},
          "execution_count": 14
        }
      ]
    },
    {
      "cell_type": "markdown",
      "metadata": {
        "id": "J6N71zZRuuu4"
      },
      "source": [
        "Veriye burdan yeni satırlar ekleyebilmeyi deniyelim ufak bir google araştırması yapalım"
      ]
    },
    {
      "cell_type": "code",
      "metadata": {
        "id": "u1XBfrf4qqTQ"
      },
      "source": [
        "data = [\n",
        "    ['I', 'ben', 'I can do it.','Ben yapabilirim.','zamirdir'],\n",
        "]\n",
        "dataframe = pd.DataFrame(data)\n",
        "dataframe.to_csv(\"convertcsv.csv\", index=False, mode='a', header=False)"
      ],
      "execution_count": null,
      "outputs": []
    },
    {
      "cell_type": "code",
      "metadata": {
        "colab": {
          "base_uri": "https://localhost:8080/",
          "height": 172
        },
        "id": "-6z2hwyKvQTy",
        "outputId": "603333ec-57fc-4d48-d620-5dd715e2134d"
      },
      "source": [
        "data1 = pd.read_csv ('/content/convertcsv.csv')\n",
        "data1"
      ],
      "execution_count": null,
      "outputs": [
        {
          "output_type": "execute_result",
          "data": {
            "text/html": [
              "<div>\n",
              "<style scoped>\n",
              "    .dataframe tbody tr th:only-of-type {\n",
              "        vertical-align: middle;\n",
              "    }\n",
              "\n",
              "    .dataframe tbody tr th {\n",
              "        vertical-align: top;\n",
              "    }\n",
              "\n",
              "    .dataframe thead th {\n",
              "        text-align: right;\n",
              "    }\n",
              "</style>\n",
              "<table border=\"1\" class=\"dataframe\">\n",
              "  <thead>\n",
              "    <tr style=\"text-align: right;\">\n",
              "      <th></th>\n",
              "      <th>ingilizcesi</th>\n",
              "      <th>türkçesi</th>\n",
              "      <th>ingilizce cüme</th>\n",
              "      <th>türkçesi.1</th>\n",
              "      <th>ekbilgiler</th>\n",
              "    </tr>\n",
              "  </thead>\n",
              "  <tbody>\n",
              "    <tr>\n",
              "      <th>0</th>\n",
              "      <td>phase</td>\n",
              "      <td>faz/aşama/evre</td>\n",
              "      <td>We're entering a new phase in international re...</td>\n",
              "      <td>Uluslararası ilişkilerde yeni bir aşamaya giri...</td>\n",
              "      <td>NaN</td>\n",
              "    </tr>\n",
              "    <tr>\n",
              "      <th>1</th>\n",
              "      <td>raw</td>\n",
              "      <td>işlenmemiş</td>\n",
              "      <td>We were given a large quantity of raw data.</td>\n",
              "      <td>Bize çok miktarda ham veri verildi.</td>\n",
              "      <td>NaN</td>\n",
              "    </tr>\n",
              "    <tr>\n",
              "      <th>2</th>\n",
              "      <td>enrich</td>\n",
              "      <td>zenginleştirmek/değer-katmak</td>\n",
              "      <td>My life was greatly enriched by knowing her.</td>\n",
              "      <td>Onu tanımakla hayatım büyük ölçüde zenginleşti.</td>\n",
              "      <td>NaN</td>\n",
              "    </tr>\n",
              "    <tr>\n",
              "      <th>3</th>\n",
              "      <td>I</td>\n",
              "      <td>ben</td>\n",
              "      <td>I can do it.</td>\n",
              "      <td>Ben yapabilirim.</td>\n",
              "      <td>zamirdir</td>\n",
              "    </tr>\n",
              "  </tbody>\n",
              "</table>\n",
              "</div>"
            ],
            "text/plain": [
              "  ingilizcesi  ... ekbilgiler\n",
              "0       phase  ...        NaN\n",
              "1        raw   ...        NaN\n",
              "2      enrich  ...        NaN\n",
              "3           I  ...   zamirdir\n",
              "\n",
              "[4 rows x 5 columns]"
            ]
          },
          "metadata": {},
          "execution_count": 8
        }
      ]
    },
    {
      "cell_type": "markdown",
      "metadata": {
        "id": "ZfI-Nd2evcwG"
      },
      "source": [
        "gayette güzel ekleyebildik gibi duruyor"
      ]
    },
    {
      "cell_type": "markdown",
      "metadata": {
        "id": "-BYX40Lmw4Zq"
      },
      "source": [
        "ekleme işini daha kullanışlı hale getirmeye çalışalım"
      ]
    },
    {
      "cell_type": "code",
      "metadata": {
        "id": "w0BROFolvWbH"
      },
      "source": [
        "def ekleme():\n",
        "  x1 = input(\"İngilizcesini giriniz:\")\n",
        "  x2 = input(\"Türkçesini giriniz:\")\n",
        "  x3 = input(\"İngilizce cümlesini giriniz:\")\n",
        "  x4 = input(\"Türkçesi cümlesini giriniz:\")\n",
        "  x5 = input(\"Ek bilgi varsa giriniz yoksa - şareti bırakbilirsiniz\")\n",
        "  data = [\n",
        "          [x1,x2,x3,x4,x5]\n",
        "         ]\n",
        "  dataframe = pd.DataFrame(data)\n",
        "  dataframe.to_csv(\"convertcsv.csv\", index=False, mode='a', header=False)"
      ],
      "execution_count": null,
      "outputs": []
    },
    {
      "cell_type": "code",
      "metadata": {
        "colab": {
          "base_uri": "https://localhost:8080/"
        },
        "id": "FM_2so_OyVhk",
        "outputId": "fad25569-daa8-44b2-e895-5efebd4a82be"
      },
      "source": [
        "ekleme()"
      ],
      "execution_count": null,
      "outputs": [
        {
          "name": "stdout",
          "output_type": "stream",
          "text": [
            "İngilizcesini giriniz:you\n",
            "Türkçesini giriniz:sen\n",
            "İngilizce cümlesini giriniz:I love you.\n",
            "Türkçesi cümlesini giriniz:Seni seviyorum.\n",
            "Ek bilgi varsa giriniz yoksa - şareti bırakbilirsinizZamir\n"
          ]
        }
      ]
    },
    {
      "cell_type": "markdown",
      "metadata": {
        "id": "5_kRq3Qfyl3w"
      },
      "source": [
        "Kontrol edelim"
      ]
    },
    {
      "cell_type": "code",
      "metadata": {
        "colab": {
          "base_uri": "https://localhost:8080/",
          "height": 203
        },
        "id": "DgWkMycyyaI8",
        "outputId": "cb959539-1b68-4808-9995-0578bf5d7c94"
      },
      "source": [
        "data1 = pd.read_csv ('/content/convertcsv.csv')\n",
        "data1"
      ],
      "execution_count": null,
      "outputs": [
        {
          "output_type": "execute_result",
          "data": {
            "text/html": [
              "<div>\n",
              "<style scoped>\n",
              "    .dataframe tbody tr th:only-of-type {\n",
              "        vertical-align: middle;\n",
              "    }\n",
              "\n",
              "    .dataframe tbody tr th {\n",
              "        vertical-align: top;\n",
              "    }\n",
              "\n",
              "    .dataframe thead th {\n",
              "        text-align: right;\n",
              "    }\n",
              "</style>\n",
              "<table border=\"1\" class=\"dataframe\">\n",
              "  <thead>\n",
              "    <tr style=\"text-align: right;\">\n",
              "      <th></th>\n",
              "      <th>ingilizcesi</th>\n",
              "      <th>türkçesi</th>\n",
              "      <th>ingilizce cüme</th>\n",
              "      <th>türkçesi.1</th>\n",
              "      <th>ekbilgiler</th>\n",
              "    </tr>\n",
              "  </thead>\n",
              "  <tbody>\n",
              "    <tr>\n",
              "      <th>0</th>\n",
              "      <td>phase</td>\n",
              "      <td>faz/aşama/evre</td>\n",
              "      <td>We're entering a new phase in international re...</td>\n",
              "      <td>Uluslararası ilişkilerde yeni bir aşamaya giri...</td>\n",
              "      <td>NaN</td>\n",
              "    </tr>\n",
              "    <tr>\n",
              "      <th>1</th>\n",
              "      <td>raw</td>\n",
              "      <td>işlenmemiş</td>\n",
              "      <td>We were given a large quantity of raw data.</td>\n",
              "      <td>Bize çok miktarda ham veri verildi.</td>\n",
              "      <td>NaN</td>\n",
              "    </tr>\n",
              "    <tr>\n",
              "      <th>2</th>\n",
              "      <td>enrich</td>\n",
              "      <td>zenginleştirmek/değer-katmak</td>\n",
              "      <td>My life was greatly enriched by knowing her.</td>\n",
              "      <td>Onu tanımakla hayatım büyük ölçüde zenginleşti.</td>\n",
              "      <td>NaN</td>\n",
              "    </tr>\n",
              "    <tr>\n",
              "      <th>3</th>\n",
              "      <td>I</td>\n",
              "      <td>ben</td>\n",
              "      <td>I can do it.</td>\n",
              "      <td>Ben yapabilirim.</td>\n",
              "      <td>zamirdir</td>\n",
              "    </tr>\n",
              "    <tr>\n",
              "      <th>4</th>\n",
              "      <td>you</td>\n",
              "      <td>sen</td>\n",
              "      <td>I love you.</td>\n",
              "      <td>Seni seviyorum.</td>\n",
              "      <td>Zamir</td>\n",
              "    </tr>\n",
              "  </tbody>\n",
              "</table>\n",
              "</div>"
            ],
            "text/plain": [
              "  ingilizcesi  ... ekbilgiler\n",
              "0       phase  ...        NaN\n",
              "1        raw   ...        NaN\n",
              "2      enrich  ...        NaN\n",
              "3           I  ...   zamirdir\n",
              "4         you  ...      Zamir\n",
              "\n",
              "[5 rows x 5 columns]"
            ]
          },
          "metadata": {},
          "execution_count": 17
        }
      ]
    },
    {
      "cell_type": "code",
      "metadata": {
        "id": "GRDBtrFdykGF"
      },
      "source": [
        ""
      ],
      "execution_count": null,
      "outputs": []
    }
  ]
}