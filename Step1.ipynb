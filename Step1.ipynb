{
  "nbformat": 4,
  "nbformat_minor": 0,
  "metadata": {
    "colab": {
      "name": "Step1.ipynb",
      "provenance": []
    },
    "kernelspec": {
      "name": "python3",
      "display_name": "Python 3"
    },
    "language_info": {
      "name": "python"
    }
  },
  "cells": [
    {
      "cell_type": "markdown",
      "metadata": {
        "id": "tLy0lfhMqOzj"
      },
      "source": [
        "Öncelikle verimizi okumamız gerekiyor.\n",
        "\n"
      ]
    },
    {
      "cell_type": "markdown",
      "metadata": {
        "id": "U2UdDIsNaoXq"
      },
      "source": [
        "Veriyi colaba direkt olarak attim suanlik calismak icin"
      ]
    },
    {
      "cell_type": "code",
      "metadata": {
        "colab": {
          "base_uri": "https://localhost:8080/",
          "height": 142
        },
        "id": "BxhMofYwpVhe",
        "outputId": "44429b7e-219a-4405-9550-99fa7f7d1e0b"
      },
      "source": [
        "import pandas as pd\n",
        "data1 = pd.read_csv ('/content/convertcsv.csv')\n",
        "data1"
      ],
      "execution_count": 1,
      "outputs": [
        {
          "output_type": "execute_result",
          "data": {
            "text/html": [
              "<div>\n",
              "<style scoped>\n",
              "    .dataframe tbody tr th:only-of-type {\n",
              "        vertical-align: middle;\n",
              "    }\n",
              "\n",
              "    .dataframe tbody tr th {\n",
              "        vertical-align: top;\n",
              "    }\n",
              "\n",
              "    .dataframe thead th {\n",
              "        text-align: right;\n",
              "    }\n",
              "</style>\n",
              "<table border=\"1\" class=\"dataframe\">\n",
              "  <thead>\n",
              "    <tr style=\"text-align: right;\">\n",
              "      <th></th>\n",
              "      <th>ingilizcesi</th>\n",
              "      <th>türkçesi</th>\n",
              "      <th>ingilizce cüme</th>\n",
              "      <th>türkçesi.1</th>\n",
              "      <th>ekbilgiler</th>\n",
              "    </tr>\n",
              "  </thead>\n",
              "  <tbody>\n",
              "    <tr>\n",
              "      <th>0</th>\n",
              "      <td>phase</td>\n",
              "      <td>faz/aşama/evre</td>\n",
              "      <td>We're entering a new phase in international re...</td>\n",
              "      <td>Uluslararası ilişkilerde yeni bir aşamaya giri...</td>\n",
              "      <td>NaN</td>\n",
              "    </tr>\n",
              "    <tr>\n",
              "      <th>1</th>\n",
              "      <td>raw</td>\n",
              "      <td>işlenmemiş</td>\n",
              "      <td>We were given a large quantity of raw data.</td>\n",
              "      <td>Bize çok miktarda ham veri verildi.</td>\n",
              "      <td>NaN</td>\n",
              "    </tr>\n",
              "    <tr>\n",
              "      <th>2</th>\n",
              "      <td>enrich</td>\n",
              "      <td>zenginleştirmek/değer-katmak</td>\n",
              "      <td>My life was greatly enriched by knowing her.</td>\n",
              "      <td>Onu tanımakla hayatım büyük ölçüde zenginleşti.</td>\n",
              "      <td>NaN</td>\n",
              "    </tr>\n",
              "  </tbody>\n",
              "</table>\n",
              "</div>"
            ],
            "text/plain": [
              "  ingilizcesi  ... ekbilgiler\n",
              "0       phase  ...        NaN\n",
              "1        raw   ...        NaN\n",
              "2      enrich  ...        NaN\n",
              "\n",
              "[3 rows x 5 columns]"
            ]
          },
          "metadata": {},
          "execution_count": 1
        }
      ]
    },
    {
      "cell_type": "markdown",
      "metadata": {
        "id": "ilfplNBivrt2"
      },
      "source": [
        "veriyi nasıl okuyacagımızı öğrenmek için pandas komutlarına bir bakalım"
      ]
    },
    {
      "cell_type": "code",
      "metadata": {
        "colab": {
          "base_uri": "https://localhost:8080/"
        },
        "id": "6If7OK1AwDKG",
        "outputId": "192fe631-e291-4548-df7d-24d3ee2bea81"
      },
      "source": [
        "#bu şekilde sütunları okuyabildik\n",
        "data1[\"ingilizcesi\"]"
      ],
      "execution_count": 2,
      "outputs": [
        {
          "output_type": "execute_result",
          "data": {
            "text/plain": [
              "0     phase\n",
              "1      raw \n",
              "2    enrich\n",
              "Name: ingilizcesi, dtype: object"
            ]
          },
          "metadata": {},
          "execution_count": 2
        }
      ]
    },
    {
      "cell_type": "code",
      "metadata": {
        "colab": {
          "base_uri": "https://localhost:8080/",
          "height": 35
        },
        "id": "eMz7-pZ5wZAh",
        "outputId": "a21e5aa1-3efb-4465-f210-ef40f8270e72"
      },
      "source": [
        "#böyle daha spesifik ihtiyaçlara erişebiliyoruz\n",
        "data1[\"ingilizcesi\"][0]"
      ],
      "execution_count": 3,
      "outputs": [
        {
          "output_type": "execute_result",
          "data": {
            "application/vnd.google.colaboratory.intrinsic+json": {
              "type": "string"
            },
            "text/plain": [
              "'phase'"
            ]
          },
          "metadata": {},
          "execution_count": 3
        }
      ]
    },
    {
      "cell_type": "markdown",
      "metadata": {
        "id": "J6N71zZRuuu4"
      },
      "source": [
        "Veriye burdan yeni satırlar ekleyebilmeyi deniyelim ufak bir google araştırması yapalım"
      ]
    },
    {
      "cell_type": "code",
      "metadata": {
        "id": "u1XBfrf4qqTQ"
      },
      "source": [
        "data = [\n",
        "    ['I', 'ben', 'I can do it.','Ben yapabilirim.','zamirdir'],\n",
        "]\n",
        "dataframe = pd.DataFrame(data)\n",
        "dataframe.to_csv(\"convertcsv.csv\", index=False, mode='a', header=False)"
      ],
      "execution_count": 4,
      "outputs": []
    },
    {
      "cell_type": "code",
      "metadata": {
        "colab": {
          "base_uri": "https://localhost:8080/",
          "height": 172
        },
        "id": "-6z2hwyKvQTy",
        "outputId": "a04f2e37-84c7-437d-d428-095e7d2e1871"
      },
      "source": [
        "data1 = pd.read_csv ('/content/convertcsv.csv')\n",
        "data1"
      ],
      "execution_count": 5,
      "outputs": [
        {
          "output_type": "execute_result",
          "data": {
            "text/html": [
              "<div>\n",
              "<style scoped>\n",
              "    .dataframe tbody tr th:only-of-type {\n",
              "        vertical-align: middle;\n",
              "    }\n",
              "\n",
              "    .dataframe tbody tr th {\n",
              "        vertical-align: top;\n",
              "    }\n",
              "\n",
              "    .dataframe thead th {\n",
              "        text-align: right;\n",
              "    }\n",
              "</style>\n",
              "<table border=\"1\" class=\"dataframe\">\n",
              "  <thead>\n",
              "    <tr style=\"text-align: right;\">\n",
              "      <th></th>\n",
              "      <th>ingilizcesi</th>\n",
              "      <th>türkçesi</th>\n",
              "      <th>ingilizce cüme</th>\n",
              "      <th>türkçesi.1</th>\n",
              "      <th>ekbilgiler</th>\n",
              "    </tr>\n",
              "  </thead>\n",
              "  <tbody>\n",
              "    <tr>\n",
              "      <th>0</th>\n",
              "      <td>phase</td>\n",
              "      <td>faz/aşama/evre</td>\n",
              "      <td>We're entering a new phase in international re...</td>\n",
              "      <td>Uluslararası ilişkilerde yeni bir aşamaya giri...</td>\n",
              "      <td>NaN</td>\n",
              "    </tr>\n",
              "    <tr>\n",
              "      <th>1</th>\n",
              "      <td>raw</td>\n",
              "      <td>işlenmemiş</td>\n",
              "      <td>We were given a large quantity of raw data.</td>\n",
              "      <td>Bize çok miktarda ham veri verildi.</td>\n",
              "      <td>NaN</td>\n",
              "    </tr>\n",
              "    <tr>\n",
              "      <th>2</th>\n",
              "      <td>enrich</td>\n",
              "      <td>zenginleştirmek/değer-katmak</td>\n",
              "      <td>My life was greatly enriched by knowing her.</td>\n",
              "      <td>Onu tanımakla hayatım büyük ölçüde zenginleşti.</td>\n",
              "      <td>NaN</td>\n",
              "    </tr>\n",
              "    <tr>\n",
              "      <th>3</th>\n",
              "      <td>I</td>\n",
              "      <td>ben</td>\n",
              "      <td>I can do it.</td>\n",
              "      <td>Ben yapabilirim.</td>\n",
              "      <td>zamirdir</td>\n",
              "    </tr>\n",
              "  </tbody>\n",
              "</table>\n",
              "</div>"
            ],
            "text/plain": [
              "  ingilizcesi  ... ekbilgiler\n",
              "0       phase  ...        NaN\n",
              "1        raw   ...        NaN\n",
              "2      enrich  ...        NaN\n",
              "3           I  ...   zamirdir\n",
              "\n",
              "[4 rows x 5 columns]"
            ]
          },
          "metadata": {},
          "execution_count": 5
        }
      ]
    },
    {
      "cell_type": "markdown",
      "metadata": {
        "id": "ZfI-Nd2evcwG"
      },
      "source": [
        "gayette güzel ekleyebildik gibi duruyor"
      ]
    },
    {
      "cell_type": "markdown",
      "metadata": {
        "id": "-BYX40Lmw4Zq"
      },
      "source": [
        "ekleme işini daha kullanışlı hale getirmeye çalışalım"
      ]
    },
    {
      "cell_type": "code",
      "metadata": {
        "id": "w0BROFolvWbH"
      },
      "source": [
        "def ekleme():\n",
        "  x1 = input(\"İngilizcesini giriniz:\")\n",
        "  x2 = input(\"Türkçesini giriniz:\")\n",
        "  x3 = input(\"İngilizce cümlesini giriniz:\")\n",
        "  x4 = input(\"Türkçesi cümlesini giriniz:\")\n",
        "  x5 = input(\"Ek bilgi varsa giriniz yoksa - şareti bırakbilirsiniz\")\n",
        "  data = [\n",
        "          [x1,x2,x3,x4,x5]\n",
        "         ]\n",
        "  dataframe = pd.DataFrame(data)\n",
        "  dataframe.to_csv(\"convertcsv.csv\", index=False, mode='a', header=False)"
      ],
      "execution_count": 6,
      "outputs": []
    },
    {
      "cell_type": "code",
      "metadata": {
        "colab": {
          "base_uri": "https://localhost:8080/"
        },
        "id": "FM_2so_OyVhk",
        "outputId": "9a1fbdcd-2a16-4fbe-c908-98295fa4b7d3"
      },
      "source": [
        "ekleme()"
      ],
      "execution_count": 7,
      "outputs": [
        {
          "name": "stdout",
          "output_type": "stream",
          "text": [
            "İngilizcesini giriniz:hello\n",
            "Türkçesini giriniz:merhaba\n",
            "İngilizce cümlesini giriniz:hello world\n",
            "Türkçesi cümlesini giriniz:merhaba dunya\n",
            "Ek bilgi varsa giriniz yoksa - şareti bırakbilirsiniz.\n"
          ]
        }
      ]
    },
    {
      "cell_type": "markdown",
      "metadata": {
        "id": "5_kRq3Qfyl3w"
      },
      "source": [
        "Kontrol edelim"
      ]
    },
    {
      "cell_type": "code",
      "metadata": {
        "colab": {
          "base_uri": "https://localhost:8080/",
          "height": 203
        },
        "id": "DgWkMycyyaI8",
        "outputId": "0152726c-1641-483d-e508-f3796b261217"
      },
      "source": [
        "data1 = pd.read_csv ('/content/convertcsv.csv')\n",
        "data1"
      ],
      "execution_count": 8,
      "outputs": [
        {
          "output_type": "execute_result",
          "data": {
            "text/html": [
              "<div>\n",
              "<style scoped>\n",
              "    .dataframe tbody tr th:only-of-type {\n",
              "        vertical-align: middle;\n",
              "    }\n",
              "\n",
              "    .dataframe tbody tr th {\n",
              "        vertical-align: top;\n",
              "    }\n",
              "\n",
              "    .dataframe thead th {\n",
              "        text-align: right;\n",
              "    }\n",
              "</style>\n",
              "<table border=\"1\" class=\"dataframe\">\n",
              "  <thead>\n",
              "    <tr style=\"text-align: right;\">\n",
              "      <th></th>\n",
              "      <th>ingilizcesi</th>\n",
              "      <th>türkçesi</th>\n",
              "      <th>ingilizce cüme</th>\n",
              "      <th>türkçesi.1</th>\n",
              "      <th>ekbilgiler</th>\n",
              "    </tr>\n",
              "  </thead>\n",
              "  <tbody>\n",
              "    <tr>\n",
              "      <th>0</th>\n",
              "      <td>phase</td>\n",
              "      <td>faz/aşama/evre</td>\n",
              "      <td>We're entering a new phase in international re...</td>\n",
              "      <td>Uluslararası ilişkilerde yeni bir aşamaya giri...</td>\n",
              "      <td>NaN</td>\n",
              "    </tr>\n",
              "    <tr>\n",
              "      <th>1</th>\n",
              "      <td>raw</td>\n",
              "      <td>işlenmemiş</td>\n",
              "      <td>We were given a large quantity of raw data.</td>\n",
              "      <td>Bize çok miktarda ham veri verildi.</td>\n",
              "      <td>NaN</td>\n",
              "    </tr>\n",
              "    <tr>\n",
              "      <th>2</th>\n",
              "      <td>enrich</td>\n",
              "      <td>zenginleştirmek/değer-katmak</td>\n",
              "      <td>My life was greatly enriched by knowing her.</td>\n",
              "      <td>Onu tanımakla hayatım büyük ölçüde zenginleşti.</td>\n",
              "      <td>NaN</td>\n",
              "    </tr>\n",
              "    <tr>\n",
              "      <th>3</th>\n",
              "      <td>I</td>\n",
              "      <td>ben</td>\n",
              "      <td>I can do it.</td>\n",
              "      <td>Ben yapabilirim.</td>\n",
              "      <td>zamirdir</td>\n",
              "    </tr>\n",
              "    <tr>\n",
              "      <th>4</th>\n",
              "      <td>hello</td>\n",
              "      <td>merhaba</td>\n",
              "      <td>hello world</td>\n",
              "      <td>merhaba dunya</td>\n",
              "      <td>.</td>\n",
              "    </tr>\n",
              "  </tbody>\n",
              "</table>\n",
              "</div>"
            ],
            "text/plain": [
              "  ingilizcesi  ... ekbilgiler\n",
              "0       phase  ...        NaN\n",
              "1        raw   ...        NaN\n",
              "2      enrich  ...        NaN\n",
              "3           I  ...   zamirdir\n",
              "4       hello  ...          .\n",
              "\n",
              "[5 rows x 5 columns]"
            ]
          },
          "metadata": {},
          "execution_count": 8
        }
      ]
    },
    {
      "cell_type": "markdown",
      "metadata": {
        "id": "o51qZkbPvGP9"
      },
      "source": [
        "random kelime secmek icin bisiler deneyelim\n"
      ]
    },
    {
      "cell_type": "code",
      "metadata": {
        "id": "GRDBtrFdykGF"
      },
      "source": [
        "import random"
      ],
      "execution_count": 10,
      "outputs": []
    },
    {
      "cell_type": "code",
      "metadata": {
        "colab": {
          "base_uri": "https://localhost:8080/"
        },
        "id": "44VN3EiKvirV",
        "outputId": "1757789c-a198-4352-85c8-4b11b56252c4"
      },
      "source": [
        "len(data1)"
      ],
      "execution_count": 14,
      "outputs": [
        {
          "output_type": "execute_result",
          "data": {
            "text/plain": [
              "5"
            ]
          },
          "metadata": {},
          "execution_count": 14
        }
      ]
    },
    {
      "cell_type": "code",
      "metadata": {
        "colab": {
          "base_uri": "https://localhost:8080/"
        },
        "id": "2t5ZGpnMvXXF",
        "outputId": "21ef7b76-5eb9-4fcc-d9aa-50f0e3f570eb"
      },
      "source": [
        "secim = random.randint(0,len(data1)-1)\n",
        "print(secim)"
      ],
      "execution_count": 36,
      "outputs": [
        {
          "output_type": "stream",
          "name": "stdout",
          "text": [
            "0\n"
          ]
        }
      ]
    },
    {
      "cell_type": "markdown",
      "metadata": {
        "id": "jYFmvL7NwOMW"
      },
      "source": [
        "rastgele sekilde index verecek kismi ogrendik"
      ]
    },
    {
      "cell_type": "markdown",
      "metadata": {
        "id": "z9dVyskLwtc0"
      },
      "source": [
        "tahmin icin birseyler yapmamiz lazim deneyelim\n",
        "\n",
        "* rastgele aldigi index ile o indexe ait ingilizce kelimeyi ekrana bastirsin\n",
        "* verecegimiz cevabin dogrulugunu kontrol etsin\n",
        "* buyuk harf duyarliligi icin tum cevaplari karsilastirmadan once kucuk karakterlere donusturelim"
      ]
    },
    {
      "cell_type": "code",
      "metadata": {
        "colab": {
          "base_uri": "https://localhost:8080/",
          "height": 35
        },
        "id": "93Z5x_ziwnlb",
        "outputId": "dd64651c-b5ff-4d4d-9761-e09c2427c140"
      },
      "source": [
        "secim = random.randint(0,len(data1)-1)\n",
        "secim\n",
        "data1[\"ingilizcesi\"][secim]"
      ],
      "execution_count": 45,
      "outputs": [
        {
          "output_type": "execute_result",
          "data": {
            "application/vnd.google.colaboratory.intrinsic+json": {
              "type": "string"
            },
            "text/plain": [
              "'enrich'"
            ]
          },
          "metadata": {},
          "execution_count": 45
        }
      ]
    },
    {
      "cell_type": "code",
      "metadata": {
        "colab": {
          "base_uri": "https://localhost:8080/"
        },
        "id": "TErnGrhqyJdv",
        "outputId": "9bfdb2d2-c142-4d19-fcc5-5960079ed3a1"
      },
      "source": [
        "tahmin_sayisi = int(input(\"Kac tahminde bulmak isterdigini\"))\n",
        "mevcut_tahmin = 0\n",
        "while tahmin_sayisi > mevcut_tahmin :\n",
        "  secim = random.randint(0,len(data1)-1)\n",
        "  ingilizcesi = data1[\"ingilizcesi\"][secim]\n",
        "  print(ingilizcesi)\n",
        "  tahmin_kelime = str(input(\"Turkcesi: \"))\n",
        "  tahmin_kelime.lower()\n",
        "  if tahmin_kelime == data1[\"türkçesi\"][secim] :\n",
        "    print(\"Dogru cevap\")\n",
        "\n",
        "  else :\n",
        "    print(\"yanlis cevap\")\n",
        "\n",
        "  mevcut_tahmin+= 1"
      ],
      "execution_count": 47,
      "outputs": [
        {
          "output_type": "stream",
          "name": "stdout",
          "text": [
            "Kac tahminde bulmak isterdigini2\n",
            "phase\n",
            "Turkcesi: faz/aşama/evre\n",
            "Dogru cevap\n",
            "enrich\n",
            "Turkcesi: zengin\n",
            "yanlis cevap\n"
          ]
        }
      ]
    },
    {
      "cell_type": "markdown",
      "metadata": {
        "id": "BT6PDp5y0Sn8"
      },
      "source": [
        "evet guzel fakat kelimelerin baska anlamlarini ayri ekleyip devam edicez veya coktan secmeli olucak coktan secmeli guzel olabilir aslinda\n"
      ]
    },
    {
      "cell_type": "markdown",
      "metadata": {
        "id": "StNSxNaB00bM"
      },
      "source": [
        "coktan secmeli için şıkları ekleyelım 4 tane olsun 4 tane farklı ındex lazım bıze onemlı olan aynı ındexten bırden fazla olmaması"
      ]
    },
    {
      "cell_type": "code",
      "metadata": {
        "colab": {
          "base_uri": "https://localhost:8080/"
        },
        "id": "ckeJkTWd0xPS",
        "outputId": "7da29f89-0bcc-4314-b848-97f35547d01e"
      },
      "source": [
        "index_list = []\n",
        "i = 0\n",
        "while i < 4 :\n",
        "        \n",
        "        index = random.randint(0,len(data1)-1)\n",
        "        if index not in index_list :\n",
        "          index_list.append(index)\n",
        "          i+=1\n",
        "index_list"
      ],
      "execution_count": 62,
      "outputs": [
        {
          "output_type": "execute_result",
          "data": {
            "text/plain": [
              "[2, 3, 1, 4]"
            ]
          },
          "metadata": {},
          "execution_count": 62
        }
      ]
    },
    {
      "cell_type": "markdown",
      "metadata": {
        "id": "lfKOcxiS2vQU"
      },
      "source": [
        "bu isimizi gorur bunu fonksiyon haline getirelim"
      ]
    },
    {
      "cell_type": "markdown",
      "metadata": {
        "id": "hhn92xt1-W1A"
      },
      "source": [
        "3 sayi uretmemiz birde dogru ceavbimiz olmali"
      ]
    },
    {
      "cell_type": "code",
      "metadata": {
        "id": "gbM9Q8N32MIZ"
      },
      "source": [
        "def index_generator():\n",
        "  global index_list\n",
        "  index_list = []\n",
        "  i = 0\n",
        "  while i < 3 :  \n",
        "    index = random.randint(0,len(data1)-1)\n",
        "    if index not in index_list :\n",
        "      index_list.append(index)\n",
        "      i+=1\n",
        "  return index_list"
      ],
      "execution_count": 159,
      "outputs": []
    },
    {
      "cell_type": "markdown",
      "metadata": {
        "id": "yMtS3ZuV55Ij"
      },
      "source": [
        "fonksiyonumuuzu yazdik calismasini kontrol edelim"
      ]
    },
    {
      "cell_type": "code",
      "metadata": {
        "colab": {
          "base_uri": "https://localhost:8080/"
        },
        "id": "Ksduskls3Mk6",
        "outputId": "9ce52294-0d2c-4df8-fbb1-d124325986ec"
      },
      "source": [
        "index_generator()"
      ],
      "execution_count": 161,
      "outputs": [
        {
          "output_type": "execute_result",
          "data": {
            "text/plain": [
              "[3, 1, 0]"
            ]
          },
          "metadata": {},
          "execution_count": 161
        }
      ]
    },
    {
      "cell_type": "markdown",
      "metadata": {
        "id": "Nl5TzyD16CzL"
      },
      "source": [
        "simdi tekrar coktan secmeli sekilde deneyelim"
      ]
    },
    {
      "cell_type": "code",
      "metadata": {
        "colab": {
          "base_uri": "https://localhost:8080/"
        },
        "id": "HMJonOMC5SZI",
        "outputId": "12d29142-383b-44f4-d2b5-6e8f58242071"
      },
      "source": [
        "tahmin_sayisi = int(input(\"Kac tahminde bulmak isterdiginizi giriniz: \"))\n",
        "mevcut_tahmin = 0\n",
        "\n",
        "print(\"************************************************************a\")\n",
        "while tahmin_sayisi > mevcut_tahmin :\n",
        "  print(\"--------------------------------------------------------\")\n",
        "  \n",
        "  #once index_generator calistiriyoruz ki rastgele secilen secim degeri ile ayni degerde olmasin\n",
        "  #ayrica eger secim degerini daha sonra listeye eklemezisek tum degerleri fonsiyondan alirsak dogru cevabimiz siklarda olmaz\n",
        "  index_generator()\n",
        "  secim = random.randint(0,len(data1)-1)\n",
        "  #eger secim degeri fonksiyon tarafindan zaten alindiysa int olarak yeni bir secim degeri yapmaliyiz yoksa secenekler ayni olur\n",
        "  \n",
        "  while secim in index_list:\n",
        "      secim = random.randint(0,len(data1)-1)\n",
        "  index_list.append(secim)\n",
        "  \n",
        "  #ayrica listeyi karistirmaliyiz ki hep ayni secenekte dogru cevap olmasin\n",
        "  random.shuffle(index_list)\n",
        "\n",
        "  \n",
        "  ingilizcesi = data1[\"ingilizcesi\"][secim]\n",
        "  print(\"Kelimenin Turkcesi hangi secenektedir:\", ingilizcesi)\n",
        "  turkcesi = str(data1[\"türkçesi\"][secim])\n",
        "\n",
        "  #secenekler\n",
        "  a = str(data1[\"türkçesi\"][index_list[0]])\n",
        "  b = str(data1[\"türkçesi\"][index_list[1]])\n",
        "  c = str(data1[\"türkçesi\"][index_list[2]])\n",
        "  d = str(data1[\"türkçesi\"][index_list[3]])\n",
        "\n",
        "  print(\"A Secenegi: \",a)\n",
        "  print(\"B Secenegi: \",b)\n",
        "  print(\"C Secenegi: \",c)\n",
        "  print(\"D Secenegi: \",d)\n",
        "\n",
        "  tahmin = input(\"Cevabiniz(A/B/C/D): \")\n",
        "  \n",
        "  if tahmin == \"a\":\n",
        "    tahmin_str = a\n",
        "\n",
        "  if tahmin == \"b\":\n",
        "    tahmin_str = b\n",
        "\n",
        "  if tahmin == \"c\":\n",
        "    tahmin_str = c\n",
        "\n",
        "  if tahmin == \"d\":\n",
        "    tahmin_str = d\n",
        "  \n",
        "  if tahmin_str == turkcesi :\n",
        "    print(\"Dogru cevap tebrikler\")\n",
        "\n",
        "  else :\n",
        "    print(\"Yanlis cevap bi sonraki soruya gecelim\")\n",
        "\n",
        "  mevcut_tahmin+= 1\n",
        "  print(\"--------------------------------------------------------\")"
      ],
      "execution_count": 165,
      "outputs": [
        {
          "output_type": "stream",
          "name": "stdout",
          "text": [
            "Kac tahminde bulmak isterdiginizi giriniz: 5\n",
            "************************************************************\n",
            "--------------------------------------------------------\n",
            "Kelimenin Turkcesi hangi secenektedir: hello\n",
            "A Secenegi:  zenginleştirmek/değer-katmak\n",
            "B Secenegi:  işlenmemiş \n",
            "C Secenegi:  ben\n",
            "D Secenegi:  merhaba\n",
            "Cevabiniz(A/B/C/D): a\n",
            "Yanlis cevap bi sonraki soruya gecelim\n",
            "--------------------------------------------------------\n",
            "--------------------------------------------------------\n",
            "Kelimenin Turkcesi hangi secenektedir: enrich\n",
            "A Secenegi:  merhaba\n",
            "B Secenegi:  ben\n",
            "C Secenegi:  zenginleştirmek/değer-katmak\n",
            "D Secenegi:  faz/aşama/evre\n",
            "Cevabiniz(A/B/C/D): a\n",
            "Yanlis cevap bi sonraki soruya gecelim\n",
            "--------------------------------------------------------\n",
            "--------------------------------------------------------\n",
            "Kelimenin Turkcesi hangi secenektedir: I\n",
            "A Secenegi:  ben\n",
            "B Secenegi:  faz/aşama/evre\n",
            "C Secenegi:  merhaba\n",
            "D Secenegi:  zenginleştirmek/değer-katmak\n",
            "Cevabiniz(A/B/C/D): a\n",
            "Dogru cevap tebrikler\n",
            "--------------------------------------------------------\n",
            "--------------------------------------------------------\n",
            "Kelimenin Turkcesi hangi secenektedir: enrich\n",
            "A Secenegi:  ben\n",
            "B Secenegi:  faz/aşama/evre\n",
            "C Secenegi:  merhaba\n",
            "D Secenegi:  zenginleştirmek/değer-katmak\n",
            "Cevabiniz(A/B/C/D): a\n",
            "Yanlis cevap bi sonraki soruya gecelim\n",
            "--------------------------------------------------------\n",
            "--------------------------------------------------------\n",
            "Kelimenin Turkcesi hangi secenektedir: enrich\n",
            "A Secenegi:  merhaba\n",
            "B Secenegi:  faz/aşama/evre\n",
            "C Secenegi:  zenginleştirmek/değer-katmak\n",
            "D Secenegi:  işlenmemiş \n",
            "Cevabiniz(A/B/C/D): a\n",
            "Yanlis cevap bi sonraki soruya gecelim\n",
            "--------------------------------------------------------\n"
          ]
        }
      ]
    },
    {
      "cell_type": "code",
      "metadata": {
        "id": "x-AdlBSC-4Q_"
      },
      "source": [
        ""
      ],
      "execution_count": null,
      "outputs": []
    }
  ]
}