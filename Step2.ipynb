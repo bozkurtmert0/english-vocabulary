{
  "nbformat": 4,
  "nbformat_minor": 0,
  "metadata": {
    "colab": {
      "name": "Step2.ipynb",
      "provenance": []
    },
    "kernelspec": {
      "name": "python3",
      "display_name": "Python 3"
    },
    "language_info": {
      "name": "python"
    }
  },
  "cells": [
    {
      "cell_type": "markdown",
      "metadata": {
        "id": "wwZUse5YamGR"
      },
      "source": [
        "Bir onceki notebookta gelisi guzel sekilde bisiler ogrenmeye calisip hizlica bir tane calisan programi yapmistik simdi tekrar ederek yeni seyler eklemeye calisalim."
      ]
    },
    {
      "cell_type": "markdown",
      "metadata": {
        "id": "3G_1f6szbBy3"
      },
      "source": [
        "Verimizi tekrar okuyalim"
      ]
    },
    {
      "cell_type": "code",
      "metadata": {
        "colab": {
          "base_uri": "https://localhost:8080/",
          "height": 142
        },
        "id": "YTf4Es3Pahuj",
        "outputId": "329b703f-b1ad-4a29-a42a-30c19b691816"
      },
      "source": [
        "import pandas as pd\n",
        "data1 = pd.read_csv ('/content/convertcsv.csv')\n",
        "data1"
      ],
      "execution_count": 51,
      "outputs": [
        {
          "output_type": "execute_result",
          "data": {
            "text/html": [
              "<div>\n",
              "<style scoped>\n",
              "    .dataframe tbody tr th:only-of-type {\n",
              "        vertical-align: middle;\n",
              "    }\n",
              "\n",
              "    .dataframe tbody tr th {\n",
              "        vertical-align: top;\n",
              "    }\n",
              "\n",
              "    .dataframe thead th {\n",
              "        text-align: right;\n",
              "    }\n",
              "</style>\n",
              "<table border=\"1\" class=\"dataframe\">\n",
              "  <thead>\n",
              "    <tr style=\"text-align: right;\">\n",
              "      <th></th>\n",
              "      <th>ingilizcesi</th>\n",
              "      <th>türkçesi</th>\n",
              "      <th>ingilizce cüme</th>\n",
              "      <th>türkçesi.1</th>\n",
              "      <th>ekbilgiler</th>\n",
              "    </tr>\n",
              "  </thead>\n",
              "  <tbody>\n",
              "    <tr>\n",
              "      <th>0</th>\n",
              "      <td>phase</td>\n",
              "      <td>faz/aşama/evre</td>\n",
              "      <td>We're entering a new phase in international re...</td>\n",
              "      <td>Uluslararası ilişkilerde yeni bir aşamaya giri...</td>\n",
              "      <td>NaN</td>\n",
              "    </tr>\n",
              "    <tr>\n",
              "      <th>1</th>\n",
              "      <td>raw</td>\n",
              "      <td>işlenmemiş</td>\n",
              "      <td>We were given a large quantity of raw data.</td>\n",
              "      <td>Bize çok miktarda ham veri verildi.</td>\n",
              "      <td>NaN</td>\n",
              "    </tr>\n",
              "    <tr>\n",
              "      <th>2</th>\n",
              "      <td>enrich</td>\n",
              "      <td>zenginleştirmek/değer-katmak</td>\n",
              "      <td>My life was greatly enriched by knowing her.</td>\n",
              "      <td>Onu tanımakla hayatım büyük ölçüde zenginleşti.</td>\n",
              "      <td>NaN</td>\n",
              "    </tr>\n",
              "  </tbody>\n",
              "</table>\n",
              "</div>"
            ],
            "text/plain": [
              "  ingilizcesi  ... ekbilgiler\n",
              "0       phase  ...        NaN\n",
              "1        raw   ...        NaN\n",
              "2      enrich  ...        NaN\n",
              "\n",
              "[3 rows x 5 columns]"
            ]
          },
          "metadata": {},
          "execution_count": 51
        }
      ]
    },
    {
      "cell_type": "markdown",
      "metadata": {
        "id": "Ze4juY5hbqQd"
      },
      "source": [
        "Yeni veri girisi icin yazmis oldugumuz onceki notebooktaki fonksiyonu burayada yazalim. Bu fonksiyon yeni satirlar eklememizi saglar"
      ]
    },
    {
      "cell_type": "code",
      "metadata": {
        "id": "dxqM_PiNbyGm"
      },
      "source": [
        "def ekleme():\n",
        "  x1 = input(\"İngilizcesini giriniz:\")\n",
        "  x2 = input(\"Türkçesini giriniz:\")\n",
        "  x3 = input(\"İngilizce cümlesini giriniz:\")\n",
        "  x4 = input(\"Türkçesi cümlesini giriniz:\")\n",
        "  x5 = input(\"Ek bilgi varsa giriniz yoksa - şareti bırakbilirsiniz\")\n",
        "  data = [\n",
        "          [x1,x2,x3,x4,x5]\n",
        "         ]\n",
        "  dataframe = pd.DataFrame(data)\n",
        "  dataframe.to_csv(\"convertcsv.csv\", index=False, mode='a', header=False)"
      ],
      "execution_count": 52,
      "outputs": []
    },
    {
      "cell_type": "code",
      "metadata": {
        "id": "Eh_FcuzklRS9"
      },
      "source": [
        "index_list = []\n",
        "import random\n",
        "def index_generator():\n",
        "  global index_list\n",
        "  index_list = []\n",
        "  i = 0\n",
        "  while i < 3 :  \n",
        "    index = random.randint(0,len(data1)-1)\n",
        "    if index not in index_list :\n",
        "      index_list.append(index)\n",
        "      i+=1\n",
        "  return index_list"
      ],
      "execution_count": 53,
      "outputs": []
    },
    {
      "cell_type": "markdown",
      "metadata": {
        "id": "_vlhhvnpbFZV"
      },
      "source": [
        "Simdi verimize bir sutun daha eklemeyi ve bu sutunda kelimenin dogru ceavpla bilindiginde +x ,yanlis bilindiginde -x seklinde kelime performansini tutacak bir veri istiyorum.\n",
        "\n",
        "Nasil yeni sutun eklenir bakalim.\n",
        "Google dan buldugumu ornek uzerinden deneyelim hizlica.\n",
        "https://www.geeksforgeeks.org/adding-new-column-to-existing-dataframe-in-pandas/"
      ]
    },
    {
      "cell_type": "code",
      "metadata": {
        "colab": {
          "base_uri": "https://localhost:8080/",
          "height": 175
        },
        "id": "1NJhCiZ2bEAV",
        "outputId": "83d57c08-7f88-4a64-8272-cf87dca4eabc"
      },
      "source": [
        "address = ['Delhi', 'Bangalore', 'Chennai']\n",
        " \n",
        "data1['Address'] = address\n",
        "data1"
      ],
      "execution_count": 54,
      "outputs": [
        {
          "output_type": "execute_result",
          "data": {
            "text/html": [
              "<div>\n",
              "<style scoped>\n",
              "    .dataframe tbody tr th:only-of-type {\n",
              "        vertical-align: middle;\n",
              "    }\n",
              "\n",
              "    .dataframe tbody tr th {\n",
              "        vertical-align: top;\n",
              "    }\n",
              "\n",
              "    .dataframe thead th {\n",
              "        text-align: right;\n",
              "    }\n",
              "</style>\n",
              "<table border=\"1\" class=\"dataframe\">\n",
              "  <thead>\n",
              "    <tr style=\"text-align: right;\">\n",
              "      <th></th>\n",
              "      <th>ingilizcesi</th>\n",
              "      <th>türkçesi</th>\n",
              "      <th>ingilizce cüme</th>\n",
              "      <th>türkçesi.1</th>\n",
              "      <th>ekbilgiler</th>\n",
              "      <th>Address</th>\n",
              "    </tr>\n",
              "  </thead>\n",
              "  <tbody>\n",
              "    <tr>\n",
              "      <th>0</th>\n",
              "      <td>phase</td>\n",
              "      <td>faz/aşama/evre</td>\n",
              "      <td>We're entering a new phase in international re...</td>\n",
              "      <td>Uluslararası ilişkilerde yeni bir aşamaya giri...</td>\n",
              "      <td>NaN</td>\n",
              "      <td>Delhi</td>\n",
              "    </tr>\n",
              "    <tr>\n",
              "      <th>1</th>\n",
              "      <td>raw</td>\n",
              "      <td>işlenmemiş</td>\n",
              "      <td>We were given a large quantity of raw data.</td>\n",
              "      <td>Bize çok miktarda ham veri verildi.</td>\n",
              "      <td>NaN</td>\n",
              "      <td>Bangalore</td>\n",
              "    </tr>\n",
              "    <tr>\n",
              "      <th>2</th>\n",
              "      <td>enrich</td>\n",
              "      <td>zenginleştirmek/değer-katmak</td>\n",
              "      <td>My life was greatly enriched by knowing her.</td>\n",
              "      <td>Onu tanımakla hayatım büyük ölçüde zenginleşti.</td>\n",
              "      <td>NaN</td>\n",
              "      <td>Chennai</td>\n",
              "    </tr>\n",
              "  </tbody>\n",
              "</table>\n",
              "</div>"
            ],
            "text/plain": [
              "  ingilizcesi                      türkçesi  ... ekbilgiler    Address\n",
              "0       phase                faz/aşama/evre  ...        NaN      Delhi\n",
              "1        raw                    işlenmemiş   ...        NaN  Bangalore\n",
              "2      enrich  zenginleştirmek/değer-katmak  ...        NaN    Chennai\n",
              "\n",
              "[3 rows x 6 columns]"
            ]
          },
          "metadata": {},
          "execution_count": 54
        }
      ]
    },
    {
      "cell_type": "markdown",
      "metadata": {
        "id": "35dkkzZ4ckxl"
      },
      "source": [
        "evet eklemis olduk bunu fonksiyon haline getirmeden once deneme amacli ekledigimiz sutunu silmeyide ogrenelim ileride lazim olabilir.\n",
        "Sitemizdeki ornekten inceleyip bulabiliriz.https://pandas.pydata.org/pandas-docs/stable/reference/api/pandas.DataFrame.drop.html"
      ]
    },
    {
      "cell_type": "code",
      "metadata": {
        "colab": {
          "base_uri": "https://localhost:8080/",
          "height": 142
        },
        "id": "eM96x7bscIZl",
        "outputId": "5d8c233c-4414-4f5e-ec51-32a6998e4c74"
      },
      "source": [
        "data1 = data1.drop(columns=['Address'])\n",
        "data1"
      ],
      "execution_count": 55,
      "outputs": [
        {
          "output_type": "execute_result",
          "data": {
            "text/html": [
              "<div>\n",
              "<style scoped>\n",
              "    .dataframe tbody tr th:only-of-type {\n",
              "        vertical-align: middle;\n",
              "    }\n",
              "\n",
              "    .dataframe tbody tr th {\n",
              "        vertical-align: top;\n",
              "    }\n",
              "\n",
              "    .dataframe thead th {\n",
              "        text-align: right;\n",
              "    }\n",
              "</style>\n",
              "<table border=\"1\" class=\"dataframe\">\n",
              "  <thead>\n",
              "    <tr style=\"text-align: right;\">\n",
              "      <th></th>\n",
              "      <th>ingilizcesi</th>\n",
              "      <th>türkçesi</th>\n",
              "      <th>ingilizce cüme</th>\n",
              "      <th>türkçesi.1</th>\n",
              "      <th>ekbilgiler</th>\n",
              "    </tr>\n",
              "  </thead>\n",
              "  <tbody>\n",
              "    <tr>\n",
              "      <th>0</th>\n",
              "      <td>phase</td>\n",
              "      <td>faz/aşama/evre</td>\n",
              "      <td>We're entering a new phase in international re...</td>\n",
              "      <td>Uluslararası ilişkilerde yeni bir aşamaya giri...</td>\n",
              "      <td>NaN</td>\n",
              "    </tr>\n",
              "    <tr>\n",
              "      <th>1</th>\n",
              "      <td>raw</td>\n",
              "      <td>işlenmemiş</td>\n",
              "      <td>We were given a large quantity of raw data.</td>\n",
              "      <td>Bize çok miktarda ham veri verildi.</td>\n",
              "      <td>NaN</td>\n",
              "    </tr>\n",
              "    <tr>\n",
              "      <th>2</th>\n",
              "      <td>enrich</td>\n",
              "      <td>zenginleştirmek/değer-katmak</td>\n",
              "      <td>My life was greatly enriched by knowing her.</td>\n",
              "      <td>Onu tanımakla hayatım büyük ölçüde zenginleşti.</td>\n",
              "      <td>NaN</td>\n",
              "    </tr>\n",
              "  </tbody>\n",
              "</table>\n",
              "</div>"
            ],
            "text/plain": [
              "  ingilizcesi  ... ekbilgiler\n",
              "0       phase  ...        NaN\n",
              "1        raw   ...        NaN\n",
              "2      enrich  ...        NaN\n",
              "\n",
              "[3 rows x 5 columns]"
            ]
          },
          "metadata": {},
          "execution_count": 55
        }
      ]
    },
    {
      "cell_type": "markdown",
      "metadata": {
        "id": "vMJDX7rpdZGP"
      },
      "source": [
        "Evet bu metod ile sutunu kaldirabiliyormusun bunuda ogrenmis olduk."
      ]
    },
    {
      "cell_type": "markdown",
      "metadata": {
        "id": "E6WYihS-dxFV"
      },
      "source": [
        "Sutun isimlerimizi degistrmeyi deniyelim bizlere lazim olabilirler. Yine pandasin dokumantasyonundan bakalim. https://pandas.pydata.org/pandas-docs/stable/reference/api/pandas.DataFrame.rename.html"
      ]
    },
    {
      "cell_type": "markdown",
      "metadata": {
        "id": "_8EmWV0ceGR2"
      },
      "source": [
        "Cesitli yollari var bir tanesini deniyelim"
      ]
    },
    {
      "cell_type": "code",
      "metadata": {
        "colab": {
          "base_uri": "https://localhost:8080/",
          "height": 142
        },
        "id": "7N4dF2FTdAn9",
        "outputId": "d2811f5b-58b4-4ece-e325-d3ed11f8a66a"
      },
      "source": [
        "data1 = data1.rename(columns={\"ingilizcesi\": \"ingilizce\",\n",
        "                              \"türkçesi\": \"turkce\",\n",
        "                              \"ingilizce cüme\": \"ingilizce_cumle\",\n",
        "                              \"türkçesi.1\" : \"turkce_cumle\",\n",
        "                             \"ekbilgiler\" : \"ekbilgi\"})\n",
        "data1"
      ],
      "execution_count": 57,
      "outputs": [
        {
          "output_type": "execute_result",
          "data": {
            "text/html": [
              "<div>\n",
              "<style scoped>\n",
              "    .dataframe tbody tr th:only-of-type {\n",
              "        vertical-align: middle;\n",
              "    }\n",
              "\n",
              "    .dataframe tbody tr th {\n",
              "        vertical-align: top;\n",
              "    }\n",
              "\n",
              "    .dataframe thead th {\n",
              "        text-align: right;\n",
              "    }\n",
              "</style>\n",
              "<table border=\"1\" class=\"dataframe\">\n",
              "  <thead>\n",
              "    <tr style=\"text-align: right;\">\n",
              "      <th></th>\n",
              "      <th>ingilizce</th>\n",
              "      <th>turkce</th>\n",
              "      <th>ingilizce_cumle</th>\n",
              "      <th>turkce_cumle</th>\n",
              "      <th>ekbilgi</th>\n",
              "    </tr>\n",
              "  </thead>\n",
              "  <tbody>\n",
              "    <tr>\n",
              "      <th>0</th>\n",
              "      <td>phase</td>\n",
              "      <td>faz/aşama/evre</td>\n",
              "      <td>We're entering a new phase in international re...</td>\n",
              "      <td>Uluslararası ilişkilerde yeni bir aşamaya giri...</td>\n",
              "      <td>NaN</td>\n",
              "    </tr>\n",
              "    <tr>\n",
              "      <th>1</th>\n",
              "      <td>raw</td>\n",
              "      <td>işlenmemiş</td>\n",
              "      <td>We were given a large quantity of raw data.</td>\n",
              "      <td>Bize çok miktarda ham veri verildi.</td>\n",
              "      <td>NaN</td>\n",
              "    </tr>\n",
              "    <tr>\n",
              "      <th>2</th>\n",
              "      <td>enrich</td>\n",
              "      <td>zenginleştirmek/değer-katmak</td>\n",
              "      <td>My life was greatly enriched by knowing her.</td>\n",
              "      <td>Onu tanımakla hayatım büyük ölçüde zenginleşti.</td>\n",
              "      <td>NaN</td>\n",
              "    </tr>\n",
              "  </tbody>\n",
              "</table>\n",
              "</div>"
            ],
            "text/plain": [
              "  ingilizce  ... ekbilgi\n",
              "0     phase  ...     NaN\n",
              "1      raw   ...     NaN\n",
              "2    enrich  ...     NaN\n",
              "\n",
              "[3 rows x 5 columns]"
            ]
          },
          "metadata": {},
          "execution_count": 57
        }
      ]
    },
    {
      "cell_type": "markdown",
      "metadata": {
        "id": "WBrajIacgjxt"
      },
      "source": [
        "### Sutun ekleme"
      ]
    },
    {
      "cell_type": "markdown",
      "metadata": {
        "id": "epahl_Cxg-Ed"
      },
      "source": [
        "her satir icin default olarak 0 degerini girmesini istememiz bizim icin gayet iyi olacaktir. once kac satirimiz var ona bakalim"
      ]
    },
    {
      "cell_type": "code",
      "metadata": {
        "colab": {
          "base_uri": "https://localhost:8080/"
        },
        "id": "GIRW-6HohPwl",
        "outputId": "691596fd-6090-46d0-84d5-54047636d679"
      },
      "source": [
        "#bu bize son hangi index oldugunu soyleyecektir bunun 1 fazlasi bizim toplam satir sayimizi verecektir\n",
        "son_index = data1.last_valid_index()\n",
        "son_index"
      ],
      "execution_count": 58,
      "outputs": [
        {
          "output_type": "execute_result",
          "data": {
            "text/plain": [
              "2"
            ]
          },
          "metadata": {},
          "execution_count": 58
        }
      ]
    },
    {
      "cell_type": "code",
      "metadata": {
        "colab": {
          "base_uri": "https://localhost:8080/",
          "height": 142
        },
        "id": "dYKSlKfxgO1c",
        "outputId": "0101db2b-7e4d-4512-aaf5-75d33f12e829"
      },
      "source": [
        "puan = [] #her satir icin puanlari bu listeye ekelyecegiz\n",
        "adim = 0\n",
        "while adim <= son_index: #0 dan son indexe kadar her satir icin 0 ekledik\n",
        "  puan.append(0)\n",
        "  adim +=1 \n",
        "\n",
        "data1['puan'] = puan\n",
        "data1"
      ],
      "execution_count": 59,
      "outputs": [
        {
          "output_type": "execute_result",
          "data": {
            "text/html": [
              "<div>\n",
              "<style scoped>\n",
              "    .dataframe tbody tr th:only-of-type {\n",
              "        vertical-align: middle;\n",
              "    }\n",
              "\n",
              "    .dataframe tbody tr th {\n",
              "        vertical-align: top;\n",
              "    }\n",
              "\n",
              "    .dataframe thead th {\n",
              "        text-align: right;\n",
              "    }\n",
              "</style>\n",
              "<table border=\"1\" class=\"dataframe\">\n",
              "  <thead>\n",
              "    <tr style=\"text-align: right;\">\n",
              "      <th></th>\n",
              "      <th>ingilizce</th>\n",
              "      <th>turkce</th>\n",
              "      <th>ingilizce_cumle</th>\n",
              "      <th>turkce_cumle</th>\n",
              "      <th>ekbilgi</th>\n",
              "      <th>puan</th>\n",
              "    </tr>\n",
              "  </thead>\n",
              "  <tbody>\n",
              "    <tr>\n",
              "      <th>0</th>\n",
              "      <td>phase</td>\n",
              "      <td>faz/aşama/evre</td>\n",
              "      <td>We're entering a new phase in international re...</td>\n",
              "      <td>Uluslararası ilişkilerde yeni bir aşamaya giri...</td>\n",
              "      <td>NaN</td>\n",
              "      <td>0</td>\n",
              "    </tr>\n",
              "    <tr>\n",
              "      <th>1</th>\n",
              "      <td>raw</td>\n",
              "      <td>işlenmemiş</td>\n",
              "      <td>We were given a large quantity of raw data.</td>\n",
              "      <td>Bize çok miktarda ham veri verildi.</td>\n",
              "      <td>NaN</td>\n",
              "      <td>0</td>\n",
              "    </tr>\n",
              "    <tr>\n",
              "      <th>2</th>\n",
              "      <td>enrich</td>\n",
              "      <td>zenginleştirmek/değer-katmak</td>\n",
              "      <td>My life was greatly enriched by knowing her.</td>\n",
              "      <td>Onu tanımakla hayatım büyük ölçüde zenginleşti.</td>\n",
              "      <td>NaN</td>\n",
              "      <td>0</td>\n",
              "    </tr>\n",
              "  </tbody>\n",
              "</table>\n",
              "</div>"
            ],
            "text/plain": [
              "  ingilizce                        turkce  ... ekbilgi puan\n",
              "0     phase                faz/aşama/evre  ...     NaN    0\n",
              "1      raw                    işlenmemiş   ...     NaN    0\n",
              "2    enrich  zenginleştirmek/değer-katmak  ...     NaN    0\n",
              "\n",
              "[3 rows x 6 columns]"
            ]
          },
          "metadata": {},
          "execution_count": 59
        }
      ]
    },
    {
      "cell_type": "markdown",
      "metadata": {
        "id": "rgfoMHTyiycG"
      },
      "source": [
        "her satir icin 0 ekleyerek bir puan sutunu olsuturmus olduk bunu bir fonksiyonun icine almamiza gerek yok cunki surekli yapmak istedigimiz bir islem degil satir eklemenin aksine"
      ]
    },
    {
      "cell_type": "markdown",
      "metadata": {
        "id": "0OAest1TjimV"
      },
      "source": [
        "## Toparlayalim"
      ]
    },
    {
      "cell_type": "markdown",
      "metadata": {
        "id": "NqUT4JT7jvNF"
      },
      "source": [
        "Yeni bir sutun ekledigimiz icin satir ekleme fonksiyonunu da duzenleyelim."
      ]
    },
    {
      "cell_type": "markdown",
      "metadata": {
        "id": "W5nLBZh4kHH2"
      },
      "source": [
        "puan sutunumuzdaki verinin tipine bakalim lazim olacaktir bizlere."
      ]
    },
    {
      "cell_type": "code",
      "metadata": {
        "colab": {
          "base_uri": "https://localhost:8080/",
          "height": 142
        },
        "id": "qPObILDtmspl",
        "outputId": "e9ff87c0-1c3f-423c-e6d4-c47b1a534ad0"
      },
      "source": [
        "data1"
      ],
      "execution_count": 60,
      "outputs": [
        {
          "output_type": "execute_result",
          "data": {
            "text/html": [
              "<div>\n",
              "<style scoped>\n",
              "    .dataframe tbody tr th:only-of-type {\n",
              "        vertical-align: middle;\n",
              "    }\n",
              "\n",
              "    .dataframe tbody tr th {\n",
              "        vertical-align: top;\n",
              "    }\n",
              "\n",
              "    .dataframe thead th {\n",
              "        text-align: right;\n",
              "    }\n",
              "</style>\n",
              "<table border=\"1\" class=\"dataframe\">\n",
              "  <thead>\n",
              "    <tr style=\"text-align: right;\">\n",
              "      <th></th>\n",
              "      <th>ingilizce</th>\n",
              "      <th>turkce</th>\n",
              "      <th>ingilizce_cumle</th>\n",
              "      <th>turkce_cumle</th>\n",
              "      <th>ekbilgi</th>\n",
              "      <th>puan</th>\n",
              "    </tr>\n",
              "  </thead>\n",
              "  <tbody>\n",
              "    <tr>\n",
              "      <th>0</th>\n",
              "      <td>phase</td>\n",
              "      <td>faz/aşama/evre</td>\n",
              "      <td>We're entering a new phase in international re...</td>\n",
              "      <td>Uluslararası ilişkilerde yeni bir aşamaya giri...</td>\n",
              "      <td>NaN</td>\n",
              "      <td>0</td>\n",
              "    </tr>\n",
              "    <tr>\n",
              "      <th>1</th>\n",
              "      <td>raw</td>\n",
              "      <td>işlenmemiş</td>\n",
              "      <td>We were given a large quantity of raw data.</td>\n",
              "      <td>Bize çok miktarda ham veri verildi.</td>\n",
              "      <td>NaN</td>\n",
              "      <td>0</td>\n",
              "    </tr>\n",
              "    <tr>\n",
              "      <th>2</th>\n",
              "      <td>enrich</td>\n",
              "      <td>zenginleştirmek/değer-katmak</td>\n",
              "      <td>My life was greatly enriched by knowing her.</td>\n",
              "      <td>Onu tanımakla hayatım büyük ölçüde zenginleşti.</td>\n",
              "      <td>NaN</td>\n",
              "      <td>0</td>\n",
              "    </tr>\n",
              "  </tbody>\n",
              "</table>\n",
              "</div>"
            ],
            "text/plain": [
              "  ingilizce                        turkce  ... ekbilgi puan\n",
              "0     phase                faz/aşama/evre  ...     NaN    0\n",
              "1      raw                    işlenmemiş   ...     NaN    0\n",
              "2    enrich  zenginleştirmek/değer-katmak  ...     NaN    0\n",
              "\n",
              "[3 rows x 6 columns]"
            ]
          },
          "metadata": {},
          "execution_count": 60
        }
      ]
    },
    {
      "cell_type": "code",
      "metadata": {
        "colab": {
          "base_uri": "https://localhost:8080/"
        },
        "id": "YRRrjYFMmneF",
        "outputId": "31bac20b-7d49-4197-b2e3-9c4feae9a39d"
      },
      "source": [
        "len(data1)"
      ],
      "execution_count": 61,
      "outputs": [
        {
          "output_type": "execute_result",
          "data": {
            "text/plain": [
              "3"
            ]
          },
          "metadata": {},
          "execution_count": 61
        }
      ]
    },
    {
      "cell_type": "code",
      "metadata": {
        "colab": {
          "base_uri": "https://localhost:8080/"
        },
        "id": "T0PVkuR3j8GG",
        "outputId": "bc9f887e-8d8c-4a8f-f0cf-d5d3555271ca"
      },
      "source": [
        "data1['puan'][0].dtype"
      ],
      "execution_count": 62,
      "outputs": [
        {
          "output_type": "execute_result",
          "data": {
            "text/plain": [
              "dtype('int64')"
            ]
          },
          "metadata": {},
          "execution_count": 62
        }
      ]
    },
    {
      "cell_type": "markdown",
      "metadata": {
        "id": "PZCVeHoEqU99"
      },
      "source": [
        "yeni ekleme fonksiyonumuz bu sekilde olucak"
      ]
    },
    {
      "cell_type": "code",
      "metadata": {
        "id": "D6YlaBytiE-c"
      },
      "source": [
        "def ekleme():\n",
        "  x1 = input(\"İngilizcesini giriniz:\")\n",
        "  x2 = input(\"Türkçesini giriniz:\")\n",
        "  x3 = input(\"İngilizce cümlesini giriniz:\")\n",
        "  x4 = input(\"Türkçesi cümlesini giriniz:\")\n",
        "  x5 = input(\"Ek bilgi varsa giriniz yoksa - şareti bırakbilirsiniz\")\n",
        "  #x6 bizim puan sutnumuz boylece her yeni satirda puan 0 olarak baslayacaktir\n",
        "  x6 = 0\n",
        "  \n",
        "  global data1\n",
        "  \n",
        "  data1 = data1.append({'ingilizce' : x1,\n",
        "                    'turkce' : x2,\n",
        "                    \"ingilizce_cumle\" : x3 ,\n",
        "                    \"turkce_cumle\" : x4 ,\n",
        "                    \"ekbilgi\" : x5 ,\n",
        "                    \"puan\" : x6} , \n",
        "                    ignore_index=True)"
      ],
      "execution_count": 69,
      "outputs": []
    },
    {
      "cell_type": "code",
      "metadata": {
        "colab": {
          "base_uri": "https://localhost:8080/"
        },
        "id": "szDBYVMPnAVV",
        "outputId": "f7e59cbb-eaa5-4e72-d023-29acbf4ad15f"
      },
      "source": [
        "ekleme()"
      ],
      "execution_count": 70,
      "outputs": [
        {
          "name": "stdout",
          "output_type": "stream",
          "text": [
            "İngilizcesini giriniz:a\n",
            "Türkçesini giriniz:b\n",
            "İngilizce cümlesini giriniz:c\n",
            "Türkçesi cümlesini giriniz:d\n",
            "Ek bilgi varsa giriniz yoksa - şareti bırakbilirsinize\n"
          ]
        }
      ]
    },
    {
      "cell_type": "code",
      "metadata": {
        "colab": {
          "base_uri": "https://localhost:8080/",
          "height": 172
        },
        "id": "UOGVdazVo3Od",
        "outputId": "84d207c3-81da-4829-e357-3d3b2ed8cc94"
      },
      "source": [
        "data1"
      ],
      "execution_count": 71,
      "outputs": [
        {
          "output_type": "execute_result",
          "data": {
            "text/html": [
              "<div>\n",
              "<style scoped>\n",
              "    .dataframe tbody tr th:only-of-type {\n",
              "        vertical-align: middle;\n",
              "    }\n",
              "\n",
              "    .dataframe tbody tr th {\n",
              "        vertical-align: top;\n",
              "    }\n",
              "\n",
              "    .dataframe thead th {\n",
              "        text-align: right;\n",
              "    }\n",
              "</style>\n",
              "<table border=\"1\" class=\"dataframe\">\n",
              "  <thead>\n",
              "    <tr style=\"text-align: right;\">\n",
              "      <th></th>\n",
              "      <th>ingilizce</th>\n",
              "      <th>turkce</th>\n",
              "      <th>ingilizce_cumle</th>\n",
              "      <th>turkce_cumle</th>\n",
              "      <th>ekbilgi</th>\n",
              "      <th>puan</th>\n",
              "    </tr>\n",
              "  </thead>\n",
              "  <tbody>\n",
              "    <tr>\n",
              "      <th>0</th>\n",
              "      <td>phase</td>\n",
              "      <td>faz/aşama/evre</td>\n",
              "      <td>We're entering a new phase in international re...</td>\n",
              "      <td>Uluslararası ilişkilerde yeni bir aşamaya giri...</td>\n",
              "      <td>NaN</td>\n",
              "      <td>0</td>\n",
              "    </tr>\n",
              "    <tr>\n",
              "      <th>1</th>\n",
              "      <td>raw</td>\n",
              "      <td>işlenmemiş</td>\n",
              "      <td>We were given a large quantity of raw data.</td>\n",
              "      <td>Bize çok miktarda ham veri verildi.</td>\n",
              "      <td>NaN</td>\n",
              "      <td>0</td>\n",
              "    </tr>\n",
              "    <tr>\n",
              "      <th>2</th>\n",
              "      <td>enrich</td>\n",
              "      <td>zenginleştirmek/değer-katmak</td>\n",
              "      <td>My life was greatly enriched by knowing her.</td>\n",
              "      <td>Onu tanımakla hayatım büyük ölçüde zenginleşti.</td>\n",
              "      <td>NaN</td>\n",
              "      <td>0</td>\n",
              "    </tr>\n",
              "    <tr>\n",
              "      <th>3</th>\n",
              "      <td>a</td>\n",
              "      <td>b</td>\n",
              "      <td>c</td>\n",
              "      <td>d</td>\n",
              "      <td>e</td>\n",
              "      <td>0</td>\n",
              "    </tr>\n",
              "  </tbody>\n",
              "</table>\n",
              "</div>"
            ],
            "text/plain": [
              "  ingilizce                        turkce  ... ekbilgi puan\n",
              "0     phase                faz/aşama/evre  ...     NaN    0\n",
              "1      raw                    işlenmemiş   ...     NaN    0\n",
              "2    enrich  zenginleştirmek/değer-katmak  ...     NaN    0\n",
              "3         a                             b  ...       e    0\n",
              "\n",
              "[4 rows x 6 columns]"
            ]
          },
          "metadata": {},
          "execution_count": 71
        }
      ]
    },
    {
      "cell_type": "markdown",
      "metadata": {
        "id": "v_bWoSySqoXz"
      },
      "source": [
        "denememizi yaptik simdi "
      ]
    },
    {
      "cell_type": "markdown",
      "metadata": {
        "id": "EpCR6sddkqWd"
      },
      "source": [
        "Simdi programimiza ekledigimiz puan sutununu aktif hale getirmeye calisalim"
      ]
    },
    {
      "cell_type": "markdown",
      "metadata": {
        "id": "nxjZqE27rmq9"
      },
      "source": [
        "## Puanlamayi ekleyelim"
      ]
    },
    {
      "cell_type": "markdown",
      "metadata": {
        "id": "YmduUjFyrrXO"
      },
      "source": [
        "bunu fonksiyon seklinde yapmayi deneyleim ki daha duzenli olsun"
      ]
    },
    {
      "cell_type": "code",
      "metadata": {
        "colab": {
          "base_uri": "https://localhost:8080/"
        },
        "id": "KX4YCr6Fr2Lc",
        "outputId": "9c6eb776-9cd7-4b8b-8ba1-9f9d154c880c"
      },
      "source": [
        "data1[\"puan\"]"
      ],
      "execution_count": 75,
      "outputs": [
        {
          "output_type": "execute_result",
          "data": {
            "text/plain": [
              "0    0\n",
              "1    0\n",
              "2    0\n",
              "3    0\n",
              "Name: puan, dtype: int64"
            ]
          },
          "metadata": {},
          "execution_count": 75
        }
      ]
    },
    {
      "cell_type": "code",
      "metadata": {
        "id": "IcHWUuqFrZJ0"
      },
      "source": [
        "def puan_arttir(secim) :\n",
        "  global data1\n",
        "  data1[\"puan\"][secim] += 1\n",
        "\n",
        "def puan_azalt(secim) :\n",
        "  global data1 \n",
        "  data1[\"puan\"][secim] -= 1"
      ],
      "execution_count": 77,
      "outputs": []
    },
    {
      "cell_type": "markdown",
      "metadata": {
        "id": "btJCohPOk3xl"
      },
      "source": [
        "Bir onceki notebooktaki olusturmus oldugumuz ana programi tekrar alalim buraya ve degistirdigimiz sutun isimlerini uyarlayalim"
      ]
    },
    {
      "cell_type": "markdown",
      "metadata": {
        "id": "l_fQ2JJMsY5k"
      },
      "source": [
        "Programa ekleyelim ve deneyelim"
      ]
    },
    {
      "cell_type": "code",
      "metadata": {
        "colab": {
          "base_uri": "https://localhost:8080/"
        },
        "id": "3Hbgk78MsQCb",
        "outputId": "c7834d07-bdad-48bd-8b6b-1236d7c71f83"
      },
      "source": [
        "tahmin_sayisi = int(input(\"Kac tahminde bulmak isterdiginizi giriniz: \"))\n",
        "mevcut_tahmin = 0\n",
        "\n",
        "print(\"************************************************************a\")\n",
        "while tahmin_sayisi > mevcut_tahmin :\n",
        "  print(\"--------------------------------------------------------\")\n",
        "  \n",
        "  #once index_generator calistiriyoruz ki rastgele secilen secim degeri ile ayni degerde olmasin\n",
        "  #ayrica eger secim degerini daha sonra listeye eklemezisek tum degerleri fonsiyondan alirsak dogru cevabimiz siklarda olmaz\n",
        "  index_generator()\n",
        "  secim = random.randint(0,len(data1)-1)\n",
        "  #eger secim degeri fonksiyon tarafindan zaten alindiysa int olarak yeni bir secim degeri yapmaliyiz yoksa secenekler ayni olur\n",
        "  \n",
        "  while secim in index_list:\n",
        "      secim = random.randint(0,len(data1)-1)\n",
        "  index_list.append(secim)\n",
        "  \n",
        "  #ayrica listeyi karistirmaliyiz ki hep ayni secenekte dogru cevap olmasin\n",
        "  random.shuffle(index_list)\n",
        "\n",
        "  \n",
        "  ingilizce = data1[\"ingilizce\"][secim]\n",
        "  print(\"Kelimenin Turkcesi hangi secenektedir:\", ingilizce)\n",
        "  turkcesi = str(data1[\"turkce\"][secim])\n",
        "\n",
        "  #secenekler\n",
        "  a = str(data1[\"turkce\"][index_list[0]])\n",
        "  b = str(data1[\"turkce\"][index_list[1]])\n",
        "  c = str(data1[\"turkce\"][index_list[2]])\n",
        "  d = str(data1[\"turkce\"][index_list[3]])\n",
        "\n",
        "  print(\"A Secenegi: \",a)\n",
        "  print(\"B Secenegi: \",b)\n",
        "  print(\"C Secenegi: \",c)\n",
        "  print(\"D Secenegi: \",d)\n",
        "\n",
        "  tahmin = input(\"Cevabiniz(A/B/C/D): \")\n",
        "  \n",
        "  if tahmin == \"a\":\n",
        "    tahmin_str = a\n",
        "\n",
        "  if tahmin == \"b\":\n",
        "    tahmin_str = b\n",
        "\n",
        "  if tahmin == \"c\":\n",
        "    tahmin_str = c\n",
        "\n",
        "  if tahmin == \"d\":\n",
        "    tahmin_str = d\n",
        "  \n",
        "  if tahmin_str == turkcesi :\n",
        "    print(\"Dogru cevap tebrikler\")\n",
        "    puan_arttir(secim= secim)\n",
        "\n",
        "  else :\n",
        "    print(\"Yanlis cevap bi sonraki soruya gecelim\")\n",
        "    puan_azalt(secim= secim)\n",
        "  mevcut_tahmin+= 1\n",
        "  print(\"--------------------------------------------------------\")"
      ],
      "execution_count": 78,
      "outputs": [
        {
          "name": "stdout",
          "output_type": "stream",
          "text": [
            "Kac tahminde bulmak isterdiginizi giriniz: 2\n",
            "************************************************************a\n",
            "--------------------------------------------------------\n",
            "Kelimenin Turkcesi hangi secenektedir: raw \n",
            "A Secenegi:  işlenmemiş \n",
            "B Secenegi:  zenginleştirmek/değer-katmak\n",
            "C Secenegi:  b\n",
            "D Secenegi:  faz/aşama/evre\n",
            "Cevabiniz(A/B/C/D): a\n"
          ]
        },
        {
          "output_type": "stream",
          "name": "stderr",
          "text": [
            "/usr/local/lib/python3.7/dist-packages/ipykernel_launcher.py:3: SettingWithCopyWarning: \n",
            "A value is trying to be set on a copy of a slice from a DataFrame\n",
            "\n",
            "See the caveats in the documentation: https://pandas.pydata.org/pandas-docs/stable/user_guide/indexing.html#returning-a-view-versus-a-copy\n",
            "  This is separate from the ipykernel package so we can avoid doing imports until\n"
          ]
        },
        {
          "output_type": "stream",
          "name": "stdout",
          "text": [
            "Dogru cevap tebrikler\n",
            "--------------------------------------------------------\n",
            "--------------------------------------------------------\n",
            "Kelimenin Turkcesi hangi secenektedir: phase\n",
            "A Secenegi:  b\n",
            "B Secenegi:  işlenmemiş \n",
            "C Secenegi:  zenginleştirmek/değer-katmak\n",
            "D Secenegi:  faz/aşama/evre\n",
            "Cevabiniz(A/B/C/D): a\n",
            "Yanlis cevap bi sonraki soruya gecelim\n",
            "--------------------------------------------------------\n"
          ]
        },
        {
          "output_type": "stream",
          "name": "stderr",
          "text": [
            "/usr/local/lib/python3.7/dist-packages/ipykernel_launcher.py:7: SettingWithCopyWarning: \n",
            "A value is trying to be set on a copy of a slice from a DataFrame\n",
            "\n",
            "See the caveats in the documentation: https://pandas.pydata.org/pandas-docs/stable/user_guide/indexing.html#returning-a-view-versus-a-copy\n",
            "  import sys\n"
          ]
        }
      ]
    },
    {
      "cell_type": "markdown",
      "metadata": {
        "id": "EjrA4jqGs105"
      },
      "source": [
        "kontrol edelim"
      ]
    },
    {
      "cell_type": "code",
      "metadata": {
        "colab": {
          "base_uri": "https://localhost:8080/",
          "height": 172
        },
        "id": "h46QX0gMsp98",
        "outputId": "286c974f-4e32-43a6-b292-984f7812e4e5"
      },
      "source": [
        "data1"
      ],
      "execution_count": 79,
      "outputs": [
        {
          "output_type": "execute_result",
          "data": {
            "text/html": [
              "<div>\n",
              "<style scoped>\n",
              "    .dataframe tbody tr th:only-of-type {\n",
              "        vertical-align: middle;\n",
              "    }\n",
              "\n",
              "    .dataframe tbody tr th {\n",
              "        vertical-align: top;\n",
              "    }\n",
              "\n",
              "    .dataframe thead th {\n",
              "        text-align: right;\n",
              "    }\n",
              "</style>\n",
              "<table border=\"1\" class=\"dataframe\">\n",
              "  <thead>\n",
              "    <tr style=\"text-align: right;\">\n",
              "      <th></th>\n",
              "      <th>ingilizce</th>\n",
              "      <th>turkce</th>\n",
              "      <th>ingilizce_cumle</th>\n",
              "      <th>turkce_cumle</th>\n",
              "      <th>ekbilgi</th>\n",
              "      <th>puan</th>\n",
              "    </tr>\n",
              "  </thead>\n",
              "  <tbody>\n",
              "    <tr>\n",
              "      <th>0</th>\n",
              "      <td>phase</td>\n",
              "      <td>faz/aşama/evre</td>\n",
              "      <td>We're entering a new phase in international re...</td>\n",
              "      <td>Uluslararası ilişkilerde yeni bir aşamaya giri...</td>\n",
              "      <td>NaN</td>\n",
              "      <td>-1</td>\n",
              "    </tr>\n",
              "    <tr>\n",
              "      <th>1</th>\n",
              "      <td>raw</td>\n",
              "      <td>işlenmemiş</td>\n",
              "      <td>We were given a large quantity of raw data.</td>\n",
              "      <td>Bize çok miktarda ham veri verildi.</td>\n",
              "      <td>NaN</td>\n",
              "      <td>1</td>\n",
              "    </tr>\n",
              "    <tr>\n",
              "      <th>2</th>\n",
              "      <td>enrich</td>\n",
              "      <td>zenginleştirmek/değer-katmak</td>\n",
              "      <td>My life was greatly enriched by knowing her.</td>\n",
              "      <td>Onu tanımakla hayatım büyük ölçüde zenginleşti.</td>\n",
              "      <td>NaN</td>\n",
              "      <td>0</td>\n",
              "    </tr>\n",
              "    <tr>\n",
              "      <th>3</th>\n",
              "      <td>a</td>\n",
              "      <td>b</td>\n",
              "      <td>c</td>\n",
              "      <td>d</td>\n",
              "      <td>e</td>\n",
              "      <td>0</td>\n",
              "    </tr>\n",
              "  </tbody>\n",
              "</table>\n",
              "</div>"
            ],
            "text/plain": [
              "  ingilizce                        turkce  ... ekbilgi puan\n",
              "0     phase                faz/aşama/evre  ...     NaN   -1\n",
              "1      raw                    işlenmemiş   ...     NaN    1\n",
              "2    enrich  zenginleştirmek/değer-katmak  ...     NaN    0\n",
              "3         a                             b  ...       e    0\n",
              "\n",
              "[4 rows x 6 columns]"
            ]
          },
          "metadata": {},
          "execution_count": 79
        }
      ]
    },
    {
      "cell_type": "markdown",
      "metadata": {
        "id": "lauA2UQAs3WE"
      },
      "source": [
        "goruldugu gibi dogru ve yanlis cevapta puanlama degismis"
      ]
    },
    {
      "cell_type": "markdown",
      "metadata": {
        "id": "QC_OZe53tF79"
      },
      "source": [
        "### Main fonksiyonu\n",
        "\n",
        "prgramin icin bir tane ana fonksiyon yazalim ki  her seferinde tekrar kodla ugrasmayalim"
      ]
    },
    {
      "cell_type": "code",
      "metadata": {
        "id": "kdMGLgbis0Jr"
      },
      "source": [
        "def main ():\n",
        "\n",
        "  tahmin_sayisi = int(input(\"Kac tahminde bulmak isterdiginizi giriniz: \"))\n",
        "  mevcut_tahmin = 0\n",
        "\n",
        "  print(\"************************************************************a\")\n",
        "  while tahmin_sayisi > mevcut_tahmin :\n",
        "    print(\"--------------------------------------------------------\")\n",
        "  \n",
        "  #once index_generator calistiriyoruz ki rastgele secilen secim degeri ile ayni degerde olmasin\n",
        "  #ayrica eger secim degerini daha sonra listeye eklemezisek tum degerleri fonsiyondan alirsak dogru cevabimiz siklarda olmaz\n",
        "    index_generator()\n",
        "    secim = random.randint(0,len(data1)-1)\n",
        "  #eger secim degeri fonksiyon tarafindan zaten alindiysa int olarak yeni bir secim degeri yapmaliyiz yoksa secenekler ayni olur\n",
        "  \n",
        "    while secim in index_list:\n",
        "        secim = random.randint(0,len(data1)-1)\n",
        "    index_list.append(secim)\n",
        "  \n",
        "  #ayrica listeyi karistirmaliyiz ki hep ayni secenekte dogru cevap olmasin\n",
        "    random.shuffle(index_list)\n",
        "\n",
        "  \n",
        "    ingilizce = data1[\"ingilizce\"][secim]\n",
        "    print(\"Kelimenin Turkcesi hangi secenektedir:\", ingilizce)\n",
        "    turkcesi = str(data1[\"turkce\"][secim])\n",
        "\n",
        "  #secenekler\n",
        "    a = str(data1[\"turkce\"][index_list[0]])\n",
        "    b = str(data1[\"turkce\"][index_list[1]])\n",
        "    c = str(data1[\"turkce\"][index_list[2]])\n",
        "    d = str(data1[\"turkce\"][index_list[3]])\n",
        "\n",
        "    print(\"A Secenegi: \",a)\n",
        "    print(\"B Secenegi: \",b)\n",
        "    print(\"C Secenegi: \",c)\n",
        "    print(\"D Secenegi: \",d)\n",
        "\n",
        "    tahmin = input(\"Cevabiniz(A/B/C/D): \")\n",
        "  \n",
        "    if tahmin == \"a\":\n",
        "      tahmin_str = a\n",
        "\n",
        "    if tahmin == \"b\":\n",
        "      tahmin_str = b\n",
        "\n",
        "    if tahmin == \"c\":\n",
        "      tahmin_str = c\n",
        "\n",
        "    if tahmin == \"d\":\n",
        "      tahmin_str = d\n",
        "  \n",
        "    if tahmin_str == turkcesi :\n",
        "      print(\"Dogru cevap tebrikler\")\n",
        "      puan_arttir(secim= secim)\n",
        "\n",
        "    else :\n",
        "      print(\"Yanlis cevap bi sonraki soruya gecelim\")\n",
        "      puan_azalt(secim= secim)\n",
        "    mevcut_tahmin+= 1\n",
        "    print(\"--------------------------------------------------------\")"
      ],
      "execution_count": 80,
      "outputs": []
    },
    {
      "cell_type": "markdown",
      "metadata": {
        "id": "tDC8AG-jtxdW"
      },
      "source": [
        "deneyelim "
      ]
    },
    {
      "cell_type": "code",
      "metadata": {
        "colab": {
          "base_uri": "https://localhost:8080/"
        },
        "id": "8jVp8_NjtyWs",
        "outputId": "d34c744b-b8b8-4733-a6b6-cf57f4b7787c"
      },
      "source": [
        "main()"
      ],
      "execution_count": 81,
      "outputs": [
        {
          "output_type": "stream",
          "name": "stdout",
          "text": [
            "Kac tahminde bulmak isterdiginizi giriniz: 1\n",
            "************************************************************a\n",
            "--------------------------------------------------------\n",
            "Kelimenin Turkcesi hangi secenektedir: phase\n",
            "A Secenegi:  faz/aşama/evre\n",
            "B Secenegi:  b\n",
            "C Secenegi:  işlenmemiş \n",
            "D Secenegi:  zenginleştirmek/değer-katmak\n",
            "Cevabiniz(A/B/C/D): a\n",
            "Dogru cevap tebrikler\n",
            "--------------------------------------------------------\n"
          ]
        },
        {
          "output_type": "stream",
          "name": "stderr",
          "text": [
            "/usr/local/lib/python3.7/dist-packages/ipykernel_launcher.py:3: SettingWithCopyWarning: \n",
            "A value is trying to be set on a copy of a slice from a DataFrame\n",
            "\n",
            "See the caveats in the documentation: https://pandas.pydata.org/pandas-docs/stable/user_guide/indexing.html#returning-a-view-versus-a-copy\n",
            "  This is separate from the ipykernel package so we can avoid doing imports until\n"
          ]
        }
      ]
    },
    {
      "cell_type": "markdown",
      "metadata": {
        "id": "qgI1ZuTNt252"
      },
      "source": [
        "goruldugu gibi basit bir main fonksiyonuyla cagirabiliyoruz"
      ]
    },
    {
      "cell_type": "markdown",
      "metadata": {
        "id": "16rQZLLxusFW"
      },
      "source": [
        "Simdi calsitigimiz dataframi csv olarak kaydetmeye bakalim"
      ]
    },
    {
      "cell_type": "code",
      "metadata": {
        "id": "K0UzVQVtu7j9"
      },
      "source": [
        "data1.to_csv(\"yeni_data.csv\", index=False, header=True)"
      ],
      "execution_count": 84,
      "outputs": []
    },
    {
      "cell_type": "markdown",
      "metadata": {
        "id": "ZM_C371kvJtk"
      },
      "source": [
        "tekrar csv dosyasini okuyalim"
      ]
    },
    {
      "cell_type": "code",
      "metadata": {
        "colab": {
          "base_uri": "https://localhost:8080/",
          "height": 172
        },
        "id": "-4tix46rvJSs",
        "outputId": "96c85f04-2392-479b-f5be-b53e30f5a6f8"
      },
      "source": [
        "yeni_data = pd.read_csv ('/content/yeni_data.csv')\n",
        "yeni_data"
      ],
      "execution_count": 85,
      "outputs": [
        {
          "output_type": "execute_result",
          "data": {
            "text/html": [
              "<div>\n",
              "<style scoped>\n",
              "    .dataframe tbody tr th:only-of-type {\n",
              "        vertical-align: middle;\n",
              "    }\n",
              "\n",
              "    .dataframe tbody tr th {\n",
              "        vertical-align: top;\n",
              "    }\n",
              "\n",
              "    .dataframe thead th {\n",
              "        text-align: right;\n",
              "    }\n",
              "</style>\n",
              "<table border=\"1\" class=\"dataframe\">\n",
              "  <thead>\n",
              "    <tr style=\"text-align: right;\">\n",
              "      <th></th>\n",
              "      <th>ingilizce</th>\n",
              "      <th>turkce</th>\n",
              "      <th>ingilizce_cumle</th>\n",
              "      <th>turkce_cumle</th>\n",
              "      <th>ekbilgi</th>\n",
              "      <th>puan</th>\n",
              "    </tr>\n",
              "  </thead>\n",
              "  <tbody>\n",
              "    <tr>\n",
              "      <th>0</th>\n",
              "      <td>phase</td>\n",
              "      <td>faz/aşama/evre</td>\n",
              "      <td>We're entering a new phase in international re...</td>\n",
              "      <td>Uluslararası ilişkilerde yeni bir aşamaya giri...</td>\n",
              "      <td>NaN</td>\n",
              "      <td>0</td>\n",
              "    </tr>\n",
              "    <tr>\n",
              "      <th>1</th>\n",
              "      <td>raw</td>\n",
              "      <td>işlenmemiş</td>\n",
              "      <td>We were given a large quantity of raw data.</td>\n",
              "      <td>Bize çok miktarda ham veri verildi.</td>\n",
              "      <td>NaN</td>\n",
              "      <td>1</td>\n",
              "    </tr>\n",
              "    <tr>\n",
              "      <th>2</th>\n",
              "      <td>enrich</td>\n",
              "      <td>zenginleştirmek/değer-katmak</td>\n",
              "      <td>My life was greatly enriched by knowing her.</td>\n",
              "      <td>Onu tanımakla hayatım büyük ölçüde zenginleşti.</td>\n",
              "      <td>NaN</td>\n",
              "      <td>0</td>\n",
              "    </tr>\n",
              "    <tr>\n",
              "      <th>3</th>\n",
              "      <td>a</td>\n",
              "      <td>b</td>\n",
              "      <td>c</td>\n",
              "      <td>d</td>\n",
              "      <td>e</td>\n",
              "      <td>0</td>\n",
              "    </tr>\n",
              "  </tbody>\n",
              "</table>\n",
              "</div>"
            ],
            "text/plain": [
              "  ingilizce                        turkce  ... ekbilgi puan\n",
              "0     phase                faz/aşama/evre  ...     NaN    0\n",
              "1      raw                    işlenmemiş   ...     NaN    1\n",
              "2    enrich  zenginleştirmek/değer-katmak  ...     NaN    0\n",
              "3         a                             b  ...       e    0\n",
              "\n",
              "[4 rows x 6 columns]"
            ]
          },
          "metadata": {},
          "execution_count": 85
        }
      ]
    },
    {
      "cell_type": "markdown",
      "metadata": {
        "id": "ToQDLldauZLP"
      },
      "source": [
        "Neler yaptik \n",
        "\n",
        "* Puan sutunu ekleyip puan sistemini getirdik\n",
        "* ekleme fonksiyonumuzu degistirdik\n",
        "* programimizi main adli ana bir fonksiyon olarak tanimladik cagirmayi kolaylastirdik.\n",
        "* calismis oldugumuz DataFrame i islemlerimiz kaybolmamasi icin kaydetmeyi ogrendik.\n"
      ]
    },
    {
      "cell_type": "code",
      "metadata": {
        "id": "iU0wwuiTtzYj"
      },
      "source": [
        ""
      ],
      "execution_count": null,
      "outputs": []
    }
  ]
}